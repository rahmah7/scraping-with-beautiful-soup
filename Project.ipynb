pip install requests beautifulsoup4
# Import necessary libraries
import requests
from bs4 import BeautifulSoup

# Define the URL to scrape
url = "https://example.com"  # Replace with your target website URL

# Send a GET request to fetch the raw HTML content of the page
response = requests.get(url)

# Check if the request was successful (status code 200)
if response.status_code == 200:
    # Parse the content of the page using BeautifulSoup
    soup = BeautifulSoup(response.text, 'html.parser')
    
    # Example: Extract all the article titles (assuming they are within <h2> tags)
    articles = soup.find_all('h2')  # Adjust the tag based on the structure of the webpage
    
    # Print out the titles of the articles
    for article in articles:
        print(article.get_text())  # Prints the text inside the <h2> tags

else:
    print("Failed to retrieve the web page. Status code:", response.status_code)
